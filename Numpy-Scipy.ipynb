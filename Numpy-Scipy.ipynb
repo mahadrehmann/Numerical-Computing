{
 "cells": [
  {
   "cell_type": "markdown",
   "id": "87674f1f",
   "metadata": {},
   "source": [
    "## Part 1 [30 marks]"
   ]
  },
  {
   "cell_type": "markdown",
   "id": "78e07f99",
   "metadata": {},
   "source": [
    "**Task 1: Create and Analyze Basic Matrices**"
   ]
  },
  {
   "cell_type": "code",
   "execution_count": 1,
   "id": "d72eb2f0",
   "metadata": {},
   "outputs": [],
   "source": [
    "# TODO: Import necessary libraries (numpy, scipy, matplotlib)\n",
    "\n",
    "import numpy as np\n",
    "import scipy as sp\n",
    "import matplotlib.pyplot as plt"
   ]
  },
  {
   "cell_type": "code",
   "execution_count": 61,
   "id": "95f548bf",
   "metadata": {},
   "outputs": [],
   "source": [
    "#TODO: Create a 3x3 Toeplitz matrix using scipy\n",
    "\n",
    "col = np.array([1, 2, 3])\n",
    "row = np.array([1, 4, 5])\n",
    "\n",
    "toep = sp.linalg.toeplitz(col,row)"
   ]
  },
  {
   "cell_type": "code",
   "execution_count": 62,
   "id": "ca927f93",
   "metadata": {},
   "outputs": [],
   "source": [
    "# TODO: Create a 3x3 Circulant matrix using scipy.linalg.circulant\n",
    "\n",
    "arr_circ = np.array( [[1, 2, 3]])\n",
    "\n",
    "circ = sp.linalg.circulant(arr_circ)"
   ]
  },
  {
   "cell_type": "code",
   "execution_count": 63,
   "id": "5cc4cbf6",
   "metadata": {},
   "outputs": [],
   "source": [
    "# TODO: Compute the determinant of both matrices using numpy.linalg.det\n",
    "\n",
    "toep_det = np.linalg.det(toep)\n",
    "circ_det = np.linalg.det(circ)"
   ]
  },
  {
   "cell_type": "code",
   "execution_count": 64,
   "id": "704943d4",
   "metadata": {},
   "outputs": [],
   "source": [
    "# TODO: Compute the inverse of both matrices using numpy.linalg.inv\n",
    "\n",
    "toep_inv = np.linalg.inv(toep)\n",
    "circ_inv = np.linalg.inv(circ)"
   ]
  },
  {
   "cell_type": "code",
   "execution_count": 65,
   "id": "71d02fb2",
   "metadata": {},
   "outputs": [
    {
     "name": "stdout",
     "output_type": "stream",
     "text": [
      "Toeplitz Matrix (3x3): \n",
      "[[1 4 5]\n",
      " [2 1 4]\n",
      " [3 2 1]]\n",
      "\n",
      "Circular Matrix (3x3): \n",
      "[[1 3 2]\n",
      " [2 1 3]\n",
      " [3 2 1]]\n",
      "\n",
      "Determinant of Toeplitz Matrix: 38.000000000000014\n",
      "Determinant of Circulant Matrix:  18.000000000000004\n",
      "\n",
      "Inverse of Toeplitz Matrix:\n",
      "[[-0.18421053  0.15789474  0.28947368]\n",
      " [ 0.26315789 -0.36842105  0.15789474]\n",
      " [ 0.02631579  0.26315789 -0.18421053]]\n",
      "Inverse of Circulant Matrix:\n",
      "[[-0.27777778  0.05555556  0.38888889]\n",
      " [ 0.38888889 -0.27777778  0.05555556]\n",
      " [ 0.05555556  0.38888889 -0.27777778]]\n"
     ]
    }
   ],
   "source": [
    "# TODO: Print the Toeplitz matrix, Circulant matrix, their determinants, and inverses, your results should look like the following \n",
    "\n",
    "print(\"Toeplitz Matrix (3x3): \")\n",
    "print(toep)\n",
    "\n",
    "print(\"\\nCircular Matrix (3x3): \")\n",
    "print(circ)\n",
    "\n",
    "print(\"\\nDeterminant of Toeplitz Matrix:\", toep_det)\n",
    "print(\"Determinant of Circulant Matrix: \", circ_det)\n",
    "print(\"\\nInverse of Toeplitz Matrix:\")\n",
    "print(toep_inv)\n",
    "print(\"Inverse of Circulant Matrix:\")\n",
    "print(circ_inv)"
   ]
  },
  {
   "cell_type": "code",
   "execution_count": null,
   "id": "97160701",
   "metadata": {},
   "outputs": [],
   "source": [
    "# Expected Output\n",
    "\n",
    "# Toeplitz Matrix (3x3):\n",
    "#  [[1 4 5]\n",
    "#  [2 1 4]\n",
    "#  [3 2 1]]\n",
    "# Circulant Matrix (3x3):\n",
    "#  [[1 3 2]\n",
    "#  [2 1 3]\n",
    "#  [3 2 1]]\n",
    "# Determinant of Toeplitz Matrix: 37.99999999999999\n",
    "# Determinant of Circulant Matrix: 17.999999999999996\n",
    "# Inverse of Toeplitz Matrix:\n",
    "#  [[-0.18421053  0.15789474  0.28947368]\n",
    "#  [ 0.26315789 -0.36842105  0.15789474]\n",
    "#  [ 0.02631579  0.26315789 -0.18421053]]\n",
    "# Inverse of Circulant Matrix:\n",
    "#  [[-0.27777778  0.05555556  0.38888889]\n",
    "#  [ 0.38888889 -0.27777778  0.05555556]\n",
    "#  [ 0.05555556  0.38888889 -0.27777778]] \n"
   ]
  },
  {
   "cell_type": "markdown",
   "id": "e57fb439",
   "metadata": {},
   "source": [
    "## Part 2 [50 marks]"
   ]
  },
  {
   "cell_type": "markdown",
   "id": "5e259d9f",
   "metadata": {},
   "source": [
    "**Tasks : Generate and Solve Linear Systems**"
   ]
  },
  {
   "cell_type": "code",
   "execution_count": 68,
   "id": "39e0f3db",
   "metadata": {},
   "outputs": [
    {
     "name": "stdout",
     "output_type": "stream",
     "text": [
      "[[0.8321919  0.06948723 0.31105264 ... 0.07356819 0.21111421 0.24517073]\n",
      " [0.06948723 0.8321919  0.06948723 ... 0.40031117 0.07356819 0.21111421]\n",
      " [0.31105264 0.06948723 0.8321919  ... 0.84886299 0.40031117 0.07356819]\n",
      " ...\n",
      " [0.07356819 0.40031117 0.84886299 ... 0.8321919  0.06948723 0.31105264]\n",
      " [0.21111421 0.07356819 0.40031117 ... 0.06948723 0.8321919  0.06948723]\n",
      " [0.24517073 0.21111421 0.07356819 ... 0.31105264 0.06948723 0.8321919 ]]\n"
     ]
    }
   ],
   "source": [
    "# TODO: convert the above 3x3 into 3000x3000: \n",
    "    # 1. A 3000x3000 Toeplitz matrix using scipy.linalg.toeplitz\n",
    "\n",
    "random_array = np.random.rand(3000)\n",
    "toep_big = sp.linalg.toeplitz(random_array)\n",
    "print(toep_big)"
   ]
  },
  {
   "cell_type": "code",
   "execution_count": 69,
   "id": "810bb206",
   "metadata": {},
   "outputs": [],
   "source": [
    "     # 2. A 3000x3000 Circulant matrix using scipy.linalg.circulant\n",
    "\n",
    "circ_big = sp.linalg.circulant(random_array)"
   ]
  },
  {
   "cell_type": "code",
   "execution_count": 70,
   "id": "cb1fb3cc",
   "metadata": {},
   "outputs": [],
   "source": [
    "# TODO: Create corresponding random vectors b for each system\n",
    "\n",
    "toep_b = np.random.rand(3000)  #makes a 1x3000 array\n",
    "toep_b = toep_b.reshape(3000, 1)    #converting it into 3000X1\n",
    "\n",
    "circ_b = np.random.rand(3000)\n",
    "circ_b = circ_b.reshape(3000, 1)    #converting it into 3000X1\n"
   ]
  },
  {
   "cell_type": "code",
   "execution_count": 11,
   "id": "fdbc5d47",
   "metadata": {},
   "outputs": [
    {
     "name": "stdout",
     "output_type": "stream",
     "text": [
      "Toeplitz matrix solved: \n",
      " [[ 0.08533234]\n",
      " [ 0.82575015]\n",
      " [ 0.41273118]\n",
      " ...\n",
      " [-0.37804304]\n",
      " [-0.38663603]\n",
      " [ 1.00656115]]\n",
      "\n",
      "Circular matrix solved: \n",
      " [[-0.01777035]\n",
      " [ 0.02409489]\n",
      " [ 0.03622262]\n",
      " ...\n",
      " [-0.03740192]\n",
      " [ 0.00255696]\n",
      " [ 0.00199273]]\n"
     ]
    }
   ],
   "source": [
    "# TODO: Solve each system Ax = b using numpy's general-purpose solver\n",
    "\n",
    "print(\"Toeplitz matrix solved: \\n\", np.linalg.solve(toep_big, toep_b))\n",
    "print(\"\\nCircular matrix solved: \\n\", np.linalg.solve(circ_big, circ_b))\n"
   ]
  },
  {
   "cell_type": "code",
   "execution_count": 71,
   "id": "04efb038",
   "metadata": {},
   "outputs": [
    {
     "name": "stdout",
     "output_type": "stream",
     "text": [
      "[[0.6251424 ]\n",
      " [0.81468758]\n",
      " [0.55208329]\n",
      " ...\n",
      " [0.57936363]\n",
      " [0.79965755]\n",
      " [0.82052596]]\n"
     ]
    },
    {
     "data": {
      "text/plain": [
       "array([[-2.04233888],\n",
       "       [-0.0089161 ],\n",
       "       [-1.1036462 ],\n",
       "       ...,\n",
       "       [ 1.15384946],\n",
       "       [ 0.13908352],\n",
       "       [ 1.52811707]])"
      ]
     },
     "execution_count": 71,
     "metadata": {},
     "output_type": "execute_result"
    }
   ],
   "source": [
    "# TODO: Solve above toeplitz system using scipy's specialized solvers\n",
    "\n",
    "print(toep_b)\n",
    "sp.linalg.solve_toeplitz((random_vector,random_vector), toep_b)"
   ]
  },
  {
   "cell_type": "code",
   "execution_count": 13,
   "id": "8036b94d",
   "metadata": {},
   "outputs": [
    {
     "data": {
      "text/plain": [
       "array([[ 0.02160785,  0.09787999,  0.07285847, ..., -0.09008642,\n",
       "        -0.11107561, -0.0318471 ],\n",
       "       [ 0.09787999,  0.07285847,  0.05256485, ..., -0.11107561,\n",
       "        -0.0318471 ,  0.02160785],\n",
       "       [ 0.07285847,  0.05256485,  0.06456504, ..., -0.0318471 ,\n",
       "         0.02160785,  0.09787999],\n",
       "       ...,\n",
       "       [-0.09008642, -0.11107561, -0.0318471 , ..., -0.06598084,\n",
       "        -0.03212607, -0.05791797],\n",
       "       [-0.11107561, -0.0318471 ,  0.02160785, ..., -0.03212607,\n",
       "        -0.05791797, -0.09008642],\n",
       "       [-0.0318471 ,  0.02160785,  0.09787999, ..., -0.05791797,\n",
       "        -0.09008642, -0.11107561]])"
      ]
     },
     "execution_count": 13,
     "metadata": {},
     "output_type": "execute_result"
    }
   ],
   "source": [
    "# TODO: Solve above circulant system using scipy's specialized solvers\n",
    "\n",
    "sp.linalg.solve_circulant(circ_big, circ_b)"
   ]
  },
  {
   "cell_type": "code",
   "execution_count": 72,
   "id": "e223e594",
   "metadata": {},
   "outputs": [
    {
     "name": "stdout",
     "output_type": "stream",
     "text": [
      "Expected Output\n",
      "Execution Time for NumPy general solve() function for Toeplitz system:  0.6658587455749512\n",
      "Execution Time for SciPy (Toeplitz):  0.055313825607299805\n"
     ]
    }
   ],
   "source": [
    "# Task 2: Compare execution times (import time library here) toeplitz system using scipy's specialized solvers Vs Numpy solution for same system, make sure your results look like in following formate\n",
    "import time\n",
    "\n",
    "np_start_time = time.time()\n",
    "np.linalg.solve(toep_big, toep_b)\n",
    "np_end_time = time.time()\n",
    "\n",
    "np_time = np_end_time-np_start_time\n",
    "\n",
    "print(\"Expected Output\")\n",
    "print(\"Execution Time for NumPy general solve() function for Toeplitz system: \" , np_time)\n",
    "\n",
    "\n",
    "\n",
    "sp_start_time = time.time()\n",
    "sp.linalg.solve_toeplitz((random_array,random_array), toep_b)\n",
    "sp_end_time = time.time()\n",
    "\n",
    "sp_time = sp_end_time-sp_start_time\n",
    "\n",
    "print(\"Execution Time for SciPy (Toeplitz): \" , sp_time)"
   ]
  },
  {
   "cell_type": "code",
   "execution_count": null,
   "id": "6d28e91a-ef32-487d-b3c3-c138fe03e306",
   "metadata": {},
   "outputs": [],
   "source": [
    "# Expected Output\n",
    "# Execution Time for NumPy general solve() function for Toeplitz system: 1.1745483875274658\n",
    "# Execution Time for SciPy (Toeplitz): 0.03791022300720215\n",
    "\n"
   ]
  },
  {
   "cell_type": "code",
   "execution_count": 73,
   "id": "2181d647",
   "metadata": {},
   "outputs": [
    {
     "data": {
      "text/plain": [
       "Text(0.5, 1.0, 'Execution Time Comparison for Toeplitz System')"
      ]
     },
     "execution_count": 73,
     "metadata": {},
     "output_type": "execute_result"
    },
    {
     "data": {
      "image/png": "[encoded data removed]",
      "text/plain": [
       "<Figure size 640x480 with 1 Axes>"
      ]
     },
     "metadata": {},
     "output_type": "display_data"
    }
   ],
   "source": [
    "# Task 2: plot the Comparison using plt.plot Execution Times toeplitz system using scipy's specialized solvers Vs Numpy solution for same system\n",
    "# Plot the comparison\n",
    "\n",
    "plt.bar( ['Numpy', 'Scipy'],[np_time, sp_time], color=['blue', 'orange'])\n",
    "plt.xlabel('Numpy vs Scipy')\n",
    "plt.ylabel('Execution Time (seconds)')\n",
    "plt.title('Execution Time Comparison for Toeplitz System')\n",
    "\n",
    "\n"
   ]
  },
  {
   "cell_type": "code",
   "execution_count": 75,
   "id": "33f42919",
   "metadata": {},
   "outputs": [
    {
     "name": "stdout",
     "output_type": "stream",
     "text": [
      "Execution Time for NumPy.solve()  Circulant system:  0.6110711097717285\n",
      "Execution Time for SciPy special function for Circulant system:  1.158287763595581\n"
     ]
    }
   ],
   "source": [
    "# TODO: Compare Execution Times circulant system using scipy's specialized solvers Vs Numpy solution for same system\n",
    "\n",
    "np_circ_start_time = time.time()\n",
    "np.linalg.solve(circ_big, circ_b)\n",
    "np_circ_end_time = time.time()\n",
    "\n",
    "np_circ_time = np_circ_end_time-np_circ_start_time\n",
    "\n",
    "print(\"Execution Time for NumPy.solve()  Circulant system: \" , np_circ_time)\n",
    "\n",
    "sp_circ_start_time = time.time()\n",
    "sp.linalg.solve_circulant(circ_big, circ_b)\n",
    "sp_circ_end_time = time.time()\n",
    "\n",
    "sp_circ_time = sp_circ_end_time-sp_circ_start_time\n",
    "\n",
    "print(\"Execution Time for SciPy special function for Circulant system: \" , sp_circ_time)\n",
    "\n",
    "\n"
   ]
  },
  {
   "cell_type": "code",
   "execution_count": null,
   "id": "0a22d26c",
   "metadata": {},
   "outputs": [],
   "source": [
    "# Execution Time for NumPy.solve()  Circulant system: 1.1327621936798096\n",
    "# Execution Time for SciPy special function for Circulant system: 1.0987224578857422"
   ]
  },
  {
   "cell_type": "code",
   "execution_count": 76,
   "id": "7f442c7c",
   "metadata": {},
   "outputs": [
    {
     "data": {
      "text/plain": [
       "Text(0.5, 1.0, 'Execution Time Comparison for Circular System')"
      ]
     },
     "execution_count": 76,
     "metadata": {},
     "output_type": "execute_result"
    },
    {
     "data": {
      "image/png": "[encoded data removed]",
      "text/plain": [
       "<Figure size 640x480 with 1 Axes>"
      ]
     },
     "metadata": {},
     "output_type": "display_data"
    }
   ],
   "source": [
    "# TODO: plot the Comparison using plt.plot Execution Times circulant system using scipy's specialized solvers Vs Numpy solution for same system\n",
    "\n",
    "plt.bar( ['Numpy', 'Scipy'],[np_circ_time, sp_circ_time], color=['blue', 'orange'])\n",
    "plt.xlabel('Numpy vs Scipy')\n",
    "plt.ylabel('Execution Time (seconds)')\n",
    "plt.title('Execution Time Comparison for Circular System')\n"
   ]
  },
  {
   "cell_type": "code",
   "execution_count": null,
   "id": "89d9b1e0",
   "metadata": {},
   "outputs": [],
   "source": []
  },
  {
   "cell_type": "markdown",
   "id": "ec20621f",
   "metadata": {},
   "source": [
    "## Part 3: [50 marks]"
   ]
  },
  {
   "cell_type": "markdown",
   "id": "3f5874e2",
   "metadata": {},
   "source": [
    "***Task 1: Implement a function mm() to perform Naive matrix multiplication***"
   ]
  },
  {
   "cell_type": "code",
   "execution_count": 55,
   "id": "cc7e1c56",
   "metadata": {},
   "outputs": [],
   "source": [
    "\n",
    "def mm(m1, m2):\n",
    "    m1_rows =m1.shape[0]\n",
    "    m1_cols = m1.shape[1]\n",
    "    m2_rows =m2.shape[0]\n",
    "    m2_cols = m2.shape[1]\n",
    "\n",
    "    answer = np.zeros((m1_rows, m2_cols))\n",
    "   \n",
    "    if( m1_cols==m2_rows):\n",
    "        for i in range(m1_rows):\n",
    "            for j in range(m2_cols):\n",
    "                for k in range(m1_cols):\n",
    "                    answer[i][j] += m1[i][k] * m2[k][j]\n",
    "        return answer\n",
    "    else:\n",
    "        return \"Incompatible dimensions\"\n"
   ]
  },
  {
   "cell_type": "markdown",
   "id": "3e4cfc86-b0a0-410d-aa96-4ff59ecd695a",
   "metadata": {},
   "source": [
    "***Task 2: Implement a function mm_vec() to perform Vectorized matrix multiplication***"
   ]
  },
  {
   "cell_type": "code",
   "execution_count": 56,
   "id": "3fc20f10",
   "metadata": {},
   "outputs": [],
   "source": [
    "def mm_vec(A,B):\n",
    "    m1_rows =m1.shape[0]\n",
    "    m1_cols = m1.shape[1]\n",
    "    m2_rows =m2.shape[0]\n",
    "    m2_cols = m2.shape[1]\n",
    "\n",
    "    answer = np.zeros((m1_rows, m2_cols))\n",
    "   \n",
    "    if( m1_cols==m2_rows):\n",
    "        for i in range(m1_rows):\n",
    "            for j in range(m2_cols):\n",
    "                answer[i,j] = np.inner(A[i,:],B[:,j])   \n",
    "        return answer\n",
    "    "
   ]
  },
  {
   "cell_type": "markdown",
   "id": "65b1959f",
   "metadata": {},
   "source": [
    "***Task 3: Implenent a function mm_np() that uses numpy to perform matrix multiplication***"
   ]
  },
  {
   "cell_type": "code",
   "execution_count": 57,
   "id": "a0e5bd25-aa3a-49e1-8e15-c9159521196e",
   "metadata": {},
   "outputs": [],
   "source": [
    "\n",
    "def mm_np(m1, m2):\n",
    "    m1_rows =m1.shape[0]\n",
    "    m1_cols = m1.shape[1]\n",
    "    m2_rows =m2.shape[0]\n",
    "    m2_cols = m2.shape[1]\n",
    "\n",
    "    answer = np.zeros((m1_rows, m2_cols))\n",
    "    # print(answer)\n",
    "    \n",
    "    if( m1_cols==m2_rows):\n",
    "        answer = np.dot(m1,m2)\n",
    "        return answer\n",
    "    else:\n",
    "        return \"Incompatible dimensions\""
   ]
  },
  {
   "cell_type": "markdown",
   "id": "0bfa9ff6-9145-4f47-ad19-9ff0bde22489",
   "metadata": {},
   "source": [
    "***Task 4: Ensure that mm() and mm_vec() functions perform correct matrix multiplication***"
   ]
  },
  {
   "cell_type": "code",
   "execution_count": 77,
   "id": "2850f759-9e68-4887-9dc8-a0e317e414fc",
   "metadata": {},
   "outputs": [
    {
     "name": "stdout",
     "output_type": "stream",
     "text": [
      "Naive: \n",
      " [[24. 18. 26.]\n",
      " [16. 17. 18.]\n",
      " [10. 16. 24.]]\n",
      "Vecotrized: \n",
      " [[24. 18. 26.]\n",
      " [16. 17. 18.]\n",
      " [10. 16. 24.]]\n",
      "Numpy: \n",
      " [[24 18 26]\n",
      " [16 17 18]\n",
      " [10 16 24]]\n"
     ]
    }
   ],
   "source": [
    "#driver code\n",
    "m1 = np.array([[1, 4, 5],\n",
    "               [2, 1, 4],\n",
    "               [3, 2, 1]])\n",
    "\n",
    "m2 = np.array([[1, 4, 5],\n",
    "               [2, 1, 4],\n",
    "               [3, 2, 1]])\n",
    "\n",
    "print(\"Naive: \\n\", mm(m1,m2))\n",
    "print(\"Vecotrized: \\n\", mm_vec(m1,m2))\n",
    "print(\"Numpy: \\n\", mm_np(m1,m2))"
   ]
  },
  {
   "cell_type": "markdown",
   "id": "de5472f8-1dda-4c73-9f64-8bb377702d16",
   "metadata": {},
   "source": [
    "***Task 5: Visualize Performance and Results***"
   ]
  },
  {
   "cell_type": "code",
   "execution_count": 78,
   "id": "eec6ac9a",
   "metadata": {},
   "outputs": [
    {
     "name": "stdout",
     "output_type": "stream",
     "text": [
      "Naive Matrix Multiplication Time:  0.0014090538024902344\n",
      "Vectorized Matrix Multiplication Time:  0.0\n",
      "Numpy Matrix Multiplication Time:  0.0005424022674560547\n"
     ]
    },
    {
     "data": {
      "image/png": "[encoded data removed]",
      "text/plain": [
       "<Figure size 640x480 with 1 Axes>"
      ]
     },
     "metadata": {},
     "output_type": "display_data"
    }
   ],
   "source": [
    "# TODO: Plot the execution time comparisons of the three functions that you implemented for matrix of size 5x5\n",
    "np.random.seed(5)\n",
    "m1 = np.random.rand(5, 5)\n",
    "m2 = np.random.rand(5, 5)\n",
    "\n",
    "start_time = time.time()\n",
    "mm(m1, m2)\n",
    "end_time = time.time()\n",
    "mm_time = end_time - start_time\n",
    "\n",
    "start_time = time.time()\n",
    "mm_vec(m1, m2)\n",
    "end_time = time.time()\n",
    "mm_vec_time = end_time - start_time\n",
    "\n",
    "start_time = time.time()\n",
    "mm_np(m1, m2)\n",
    "end_time = time.time()\n",
    "mm_np_time = end_time - start_time\n",
    "\n",
    "print(\"Naive Matrix Multiplication Time: \", mm_time)\n",
    "print(\"Vectorized Matrix Multiplication Time: \", mm_vec_time)\n",
    "print(\"Numpy Matrix Multiplication Time: \", mm_np_time)\n",
    "\n",
    "\n",
    "plt.bar(['Naive','Vectorized', 'Numpy'], [mm_time, mm_vec_time, mm_np_time], color=['blue', 'orange', 'red'])\n",
    "plt.xlabel('Naive vs Vectorized vs Numpy')\n",
    "plt.ylabel('Execution Time (seconds)')\n",
    "plt.title('Execution Time Comparison: Matrix Multiplications')\n",
    "plt.show()"
   ]
  },
  {
   "cell_type": "code",
   "execution_count": 79,
   "id": "5204ca07-cbe3-4af8-8f7c-3af728ad138c",
   "metadata": {},
   "outputs": [
    {
     "name": "stdout",
     "output_type": "stream",
     "text": [
      "Naive Matrix Multiplication Time:  254.17781376838684\n",
      "Vectorized Matrix Multiplication Time:  1.3625717163085938\n",
      "Numpy Matrix Multiplication Time:  0.00792384147644043\n"
     ]
    },
    {
     "data": {
      "image/png": "[encoded data removed]",
      "text/plain": [
       "<Figure size 640x480 with 1 Axes>"
      ]
     },
     "metadata": {},
     "output_type": "display_data"
    }
   ],
   "source": [
    "# TODO: Plot the execution time comparisons of the three functions that you implemented for matrix of size 500x500\n",
    "\n",
    "m1 = np.random.rand(500, 500)\n",
    "m2 = np.random.rand(500, 500)\n",
    "\n",
    "start_time = time.time()\n",
    "mm(m1, m2)\n",
    "end_time = time.time()\n",
    "mm_time = end_time - start_time\n",
    "\n",
    "start_time = time.time()\n",
    "mm_vec(m1, m2)\n",
    "end_time = time.time()\n",
    "mm_vec_time = end_time - start_time\n",
    "\n",
    "start_time = time.time()\n",
    "mm_np(m1, m2)\n",
    "end_time = time.time()\n",
    "mm_np_time = end_time - start_time\n",
    "\n",
    "\n",
    "print(\"Naive Matrix Multiplication Time: \", mm_time)\n",
    "print(\"Vectorized Matrix Multiplication Time: \", mm_vec_time)\n",
    "print(\"Numpy Matrix Multiplication Time: \", mm_np_time)\n",
    "\n",
    "# Plot the comparison using a bar graph\n",
    "methods = ['Naive', 'Vectorized', 'Numpy' ]\n",
    "times = [mm_time, mm_vec_time, mm_np_time]\n",
    "\n",
    "plt.bar(methods, times, color=['blue', 'orange', 'red'])\n",
    "plt.ylabel('Execution Time (seconds)')\n",
    "plt.title('Execution Time Comparison: Matrix Multiplications')\n",
    "plt.show()\n"
   ]
  },
  {
   "cell_type": "markdown",
   "id": "5d5c3a0f",
   "metadata": {},
   "source": [
    "#### Conclusion"
   ]
  },
  {
   "cell_type": "code",
   "execution_count": null,
   "id": "1d8fa8eb",
   "metadata": {},
   "outputs": [],
   "source": [
    "# TODO: Analyze the results and write a brief report in the markdown cell, discussing these performance results\n",
    "\n",
    "The performance comparison reveals that the naive matrix multiplication method is much slower compared to the numpy and vectorized methods.\n",
    "Although Vectorized is better than naive, using libraries like numpy enhances execution speed, hence it's much better for bigger matrices. \n",
    "\n"
   ]
  }
 ],
 "metadata": {
  "kernelspec": {
   "display_name": "Python 3 (ipykernel)",
   "language": "python",
   "name": "python3"
  },
  "language_info": {
   "codemirror_mode": {
    "name": "ipython",
    "version": 3
   },
   "file_extension": ".py",
   "mimetype": "text/x-python",
   "name": "python",
   "nbconvert_exporter": "python",
   "pygments_lexer": "ipython3",
   "version": "3.12.4"
  }
 },
 "nbformat": 4,
 "nbformat_minor": 5
}

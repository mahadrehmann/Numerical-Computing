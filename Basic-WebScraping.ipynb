{
 "cells": [
  {
   "cell_type": "code",
   "execution_count": 1,
   "id": "4ed384f2-8ef1-425a-8f68-37d718bad6d5",
   "metadata": {},
   "outputs": [],
   "source": [
    "import requests\n",
    "import re\n",
    "from bs4 import BeautifulSoup"
   ]
  },
  {
   "cell_type": "code",
   "execution_count": 7,
   "id": "d7cb030a-6ab0-45db-ab74-4a8306a0b38c",
   "metadata": {},
   "outputs": [],
   "source": [
    "\n",
    "url = 'https://www.google.com/search?q=%22Full+Stack+Develepor%22+%22Islamabad%22+%22%40gmail.com%22&oq=%22Full+Stack+Develepor%22+%22Islamabad%22+%22%40gmail.com%22&gs_lcrp=EgZjaHJvbWUyBggAEEUYOdIBCTIwNzY4ajBqN6gCALACAA&sourceid=chrome&ie=UTF-8'\n",
    "# url = 'https://wikipedia.org'\n",
    "response = requests.get(url)\n",
    "html_content = response.text\n"
   ]
  },
  {
   "cell_type": "code",
   "execution_count": 9,
   "id": "a2303b4a-6b82-4ab9-9391-b91eb93cee23",
   "metadata": {},
   "outputs": [
    {
     "name": "stdout",
     "output_type": "stream",
     "text": [
      "['22Full+Stack+Developer%22+%22Islamabad%22+%22@gmail.com', 'x22@gmail.com', '22Full+Stack+Develepor%22+%22Islamabad%22+%22@gmail.com', 'zahraabbas6435@gmail.com', 'arid83@gmail.com', 'arid83@gmail.com', 'hrfutureit@gmail.com', 'hrfutureit@gmail.com', 'mkorgcorporation@gmail.com', 'shrey178@gmail.com', 'q%3D%2522Full%2BStack%2BDevelepor%2522%2B%2522Islamabad%2522%2B%2522@gmail.com', '%2522%26oq%3D%2522Full%2BStack%2BDevelepor%2522%2B%2522Islamabad%2522%2B%2522@gmail.com']\n"
     ]
    }
   ],
   "source": [
    "\n",
    "soup = BeautifulSoup(html_content, 'html.parser')\n",
    "\n",
    "email_pattern = r'\\b[A-Za-z0-9._%+-]+@[A-Za-z0-9.-]+\\.[A-Z|a-z]{2,}\\b'\n",
    "emails = re.findall(email_pattern, html_content)\n",
    "print(emails)\n",
    "\n",
    "# url_pattern = r'http[s]?://(?:[a-zA-Z]|[0-9]|[$-_@.&+]|[!*\\\\(\\\\),]|(?:%[0-9a-fA-F][0-9a-fA-F]))+'\n",
    "# urls = re.findall(url_pattern, html_content)\n",
    "# print(urls)\n"
   ]
  },
  {
   "cell_type": "code",
   "execution_count": null,
   "id": "c3c03c4f-b6ef-4124-8cd8-a35ba08a99dd",
   "metadata": {},
   "outputs": [],
   "source": []
  }
 ],
 "metadata": {
  "kernelspec": {
   "display_name": "Python 3 (ipykernel)",
   "language": "python",
   "name": "python3"
  },
  "language_info": {
   "codemirror_mode": {
    "name": "ipython",
    "version": 3
   },
   "file_extension": ".py",
   "mimetype": "text/x-python",
   "name": "python",
   "nbconvert_exporter": "python",
   "pygments_lexer": "ipython3",
   "version": "3.12.4"
  }
 },
 "nbformat": 4,
 "nbformat_minor": 5
}

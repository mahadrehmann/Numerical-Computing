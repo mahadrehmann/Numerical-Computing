{
 "cells": [
  {
   "cell_type": "code",
   "execution_count": 2,
   "id": "aee13251-d6fa-4151-9902-9ac558cb912c",
   "metadata": {},
   "outputs": [],
   "source": [
    "import turtle as tr"
   ]
  },
  {
   "cell_type": "code",
   "execution_count": 3,
   "id": "f1b3d53d-a74a-4bb2-9b9e-81ee7bdff59d",
   "metadata": {},
   "outputs": [],
   "source": [
    "window = tr.Screen()\n",
    "window.title(\"Circles Generator\")\n",
    "\n",
    "circ_shape = tr.Turtle();\n",
    "\n",
    "circ_shape.penup()\n",
    "circ_shape.goto(0,-100)\n",
    "circ_shape.pendown()\n",
    "\n",
    "circ_shape.begin_fill()\n",
    "circ_shape.color(\"blue\")\n",
    "\n",
    "circ_shape.left(20)\n",
    "circ_shape.circle(90)\n",
    "circ_shape.left(20)\n",
    "circ_shape.circle(90)\n",
    "circ_shape.left(20)\n",
    "circ_shape.circle(90)\n",
    "circ_shape.left(20)\n",
    "circ_shape.circle(90)\n",
    "circ_shape.left(20)\n",
    "circ_shape.circle(90)\n",
    "circ_shape.left(20)\n",
    "circ_shape.circle(90)\n",
    "circ_shape.left(20)\n",
    "circ_shape.circle(90)\n",
    "circ_shape.left(20)\n",
    "circ_shape.circle(90)\n",
    "circ_shape.left(20)\n",
    "circ_shape.circle(90)\n",
    "circ_shape.left(20)\n",
    "circ_shape.circle(90)\n",
    "circ_shape.left(20)\n",
    "circ_shape.circle(90)\n",
    "circ_shape.left(20)\n",
    "circ_shape.circle(90)\n",
    "circ_shape.left(20)\n",
    "circ_shape.circle(90)\n",
    "circ_shape.left(20)\n",
    "circ_shape.circle(90)\n",
    "circ_shape.left(20)\n",
    "circ_shape.circle(90)\n",
    "circ_shape.left(20)\n",
    "circ_shape.circle(90)\n",
    "circ_shape.left(20)\n",
    "circ_shape.circle(90)\n",
    "circ_shape.left(20)\n",
    "circ_shape.circle(90)\n",
    "circ_shape.left(20)\n",
    "circ_shape.circle(90)\n",
    "\n",
    "\n",
    "circ_shape.end_fill()\n",
    "circ_shape.hideturtle()\n",
    "\n",
    "tr.done()\n"
   ]
  },
  {
   "cell_type": "code",
   "execution_count": null,
   "id": "c2779c2a-8f52-4b6c-a960-7883574d2eac",
   "metadata": {},
   "outputs": [],
   "source": []
  }
 ],
 "metadata": {
  "kernelspec": {
   "display_name": "Python 3 (ipykernel)",
   "language": "python",
   "name": "python3"
  },
  "language_info": {
   "codemirror_mode": {
    "name": "ipython",
    "version": 3
   },
   "file_extension": ".py",
   "mimetype": "text/x-python",
   "name": "python",
   "nbconvert_exporter": "python",
   "pygments_lexer": "ipython3",
   "version": "3.12.4"
  }
 },
 "nbformat": 4,
 "nbformat_minor": 5
}

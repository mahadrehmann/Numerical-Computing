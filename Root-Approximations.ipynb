{
 "cells": [
  {
   "cell_type": "markdown",
   "id": "4d5275fd",
   "metadata": {},
   "source": [
    "# Consider the following"
   ]
  },
  {
   "attachments": {},
   "cell_type": "markdown",
   "id": "8744792a",
   "metadata": {},
   "source": [
    "## Function Definition\n",
    "\n",
    "The function $ f(x)$ is defined as follows:\n",
    "\n",
    "$\n",
    "f(x) = \\cos(x) + x^3 - 0.5\n",
    "$\n",
    "\n",
    "### Description\n",
    "\n",
    "This function combines a trigonometric component, $ \\cos(x) $, with a polynomial component, $ x^3$. The goal is to find the roots of this function, which occur where $ f(x) = 0 $.\n",
    "\n",
    "\n",
    "**Tasks**:\n",
    "1. Use appropriate theorem to determine whether a root exists for the above function. Test different values from -5 to 5 or any other range.\n",
    "2. You must keep the same tolerance value. Choose smallest tolerance value. Choose initial guess as disscused in class.\n",
    "3. Apply the following numerical methods to approximate the root:\n",
    "   - Bisection Method\n",
    "   - Newton-Raphson Method\n",
    "   - Fixed Point Method (incase g(x) exists that assure convergence)\n",
    "   - Secant Method\n",
    "\n",
    "4. You must fill the table given below. "
   ]
  },
  {
   "cell_type": "code",
   "execution_count": null,
   "id": "771211fd",
   "metadata": {},
   "outputs": [],
   "source": []
  },
  {
   "cell_type": "markdown",
   "id": "66f9dce6",
   "metadata": {},
   "source": [
    "##### Comparison of Numerical Methods: Manual vs SciPy Implementations\n",
    "\n",
    "| Method           | Approximate Root (Manual) | Approximate Root (SciPy) | Iterations (Manual) | Iterations (SciPy) | Notes/Observations                  |\n",
    "|------------------|---------------------------|--------------------------|---------------------|--------------------|--------------------------------------|\n",
    "| Bisection        | -0.6612986326217651       | -0.6612986326217651        24                    50+                  Scipy takes longer to calculate?       |\n",
    "| Newton-Raphson   -0.6612980914068            0.5671432903993691         7| ?                  7| ?                 Scipy is longer                         |\n",
    "| Fixed Point     -0.6612982663636816         -0.66129809140668366  \n",
    "    19 | ?                ?9| ?                Iternation count not working  | ?         |\n",
    "| Secant        -0.6612980914066836         -0.6612980914066836        80  | ?               40   | ?             Scipy is faster   | ?                      |\n",
    "\n",
    "---\n",
    "\n",
    "##### Instructions:\n",
    "- **Manual Implementation**: Implement each method yourself without using external libraries.\n",
    "- **SciPy Implementation**: Use the corresponding `scipy.optimize` functions (e.g., `scipy.optimize.bisect` for Bisection).\n",
    "- **Compare**: Fill in the results for both approaches (manual vs SciPy) for each method.\n",
    "- **Notes/Observations**: Reflect on differences in performance, accuracy, and ease of implementation between your manual solution and the SciPy function.\n"
   ]
  },
  {
   "cell_type": "code",
   "execution_count": null,
   "id": "7ba7b3da",
   "metadata": {},
   "outputs": [],
   "source": []
  },
  {
   "cell_type": "code",
   "execution_count": 2,
   "id": "215226a6",
   "metadata": {},
   "outputs": [],
   "source": [
    "# All imports here\n",
    "\n",
    "import scipy as sp\n",
    "import numpy as np"
   ]
  },
  {
   "cell_type": "code",
   "execution_count": 48,
   "id": "78eb61ba",
   "metadata": {},
   "outputs": [],
   "source": [
    "# TODO: Implement only the function above in python $f(x) = \\cos(x) + x^3 - 0.5$\n",
    "\n",
    "def f(x):\n",
    "    return np.cos(x) + x**3 - 0.5"
   ]
  },
  {
   "cell_type": "code",
   "execution_count": null,
   "id": "b4ad5ab1",
   "metadata": {},
   "outputs": [],
   "source": []
  },
  {
   "cell_type": "code",
   "execution_count": 4,
   "id": "d828726f",
   "metadata": {},
   "outputs": [],
   "source": [
    "# TODO: Implement the Bisection method for root approximation below\n",
    "\n",
    "def bisection(f, a, b, tol = 1.e-6):\n",
    "    iteration = 0\n",
    "    if (f(a) * f(b) < 0.0):\n",
    "        while ((b-a) > tol):\n",
    "            iteration = iteration + 1\n",
    "            x = (a + b)/2\n",
    "            if (f(a) * f(x) < 0.0):\n",
    "                b = x\n",
    "            elif (f(x) * f(b) < 0.0):\n",
    "                a = x\n",
    "            else:\n",
    "                break\n",
    "            print(iteration, x)\n",
    "    else:\n",
    "        print('root does not exist in this interval')\n",
    "    return x     "
   ]
  },
  {
   "cell_type": "code",
   "execution_count": null,
   "id": "a7e5b874",
   "metadata": {},
   "outputs": [],
   "source": []
  },
  {
   "cell_type": "code",
   "execution_count": 34,
   "id": "03d3b302",
   "metadata": {},
   "outputs": [],
   "source": [
    "# TODO: Implement the Fixed point method for root approximation below, incase there are suitable g(x) to approximate the fixed point else mention the reason?\n",
    "\n",
    "def fixedpoint(g, x0, tol = 1.e-6, maxit = 100):\n",
    "    error = 1.0\n",
    "    iteration = 0\n",
    "    xk = x0\n",
    "    while (error > tol and iteration < maxit):\n",
    "        iteration = iteration + 1\n",
    "        error = xk\n",
    "        xk = g(xk)\n",
    "        error = np.abs(error - xk)\n",
    "        print ('iteration =', iteration, ', x =', xk)\n",
    "    return xk"
   ]
  },
  {
   "cell_type": "code",
   "execution_count": null,
   "id": "3cdf4e36",
   "metadata": {},
   "outputs": [],
   "source": []
  },
  {
   "cell_type": "code",
   "execution_count": 36,
   "id": "e632d336",
   "metadata": {},
   "outputs": [],
   "source": [
    "# TODO: Implement the derivative of the function\n",
    "\n",
    "def fPrime(x):\n",
    "    return 3*x**2 - np.sin(x)\n",
    "\n",
    "# TODO: Implement the newton raphson method for root approximation below, choose the initial guess as disscussed in the class. \n",
    "\n",
    "def newton(f, df, x0, tol = 1.e-6, maxit = 100):\n",
    "    err = tol+1.0\n",
    "    iteration = 0\n",
    "    xk = x0\n",
    "    while (err > tol and iteration < maxit):\n",
    "        iteration = iteration + 1\n",
    "        err = xk # store previous approximation to err\n",
    "        xk = xk - f(xk)/df(xk) # Newton's iteration\n",
    "        err = np.abs(err - xk) # compute the new error\n",
    "        print(iteration, xk)\n",
    "    return xk"
   ]
  },
  {
   "cell_type": "code",
   "execution_count": 37,
   "id": "da1a6080",
   "metadata": {},
   "outputs": [],
   "source": [
    "# TODO: Implement the secant method for root approximation below\n",
    "\n",
    "def secant(f, x1, x2, tol = 1.e-6, maxit = 100):\n",
    "    err = 1.0\n",
    "    iteration = 0\n",
    "    while (err > tol and iteration < maxit):\n",
    "        xk1 = x1\n",
    "        xk = x2\n",
    "        iteration = iteration + 1\n",
    "        err = xk1\n",
    "        xk1 = xk - (xk-xk1)/(f(xk)-f(xk1))*f(xk)\n",
    "        err = np.abs(err - xk1)\n",
    "        x1 = x2\n",
    "        x2 = xk1\n",
    "        print(iteration, xk1)\n",
    "    return xk1"
   ]
  },
  {
   "cell_type": "markdown",
   "id": "2600b13b",
   "metadata": {},
   "source": [
    "## Function calls for each numerical method you implemented in above functions"
   ]
  },
  {
   "cell_type": "code",
   "execution_count": 8,
   "id": "748282bf",
   "metadata": {},
   "outputs": [],
   "source": [
    "# Test all method here by calling the function you implemented above"
   ]
  },
  {
   "cell_type": "code",
   "execution_count": 49,
   "id": "501360fb",
   "metadata": {},
   "outputs": [
    {
     "name": "stdout",
     "output_type": "stream",
     "text": [
      "1 0.0\n",
      "2 -2.5\n",
      "3 -1.25\n",
      "4 -0.625\n",
      "5 -0.9375\n",
      "6 -0.78125\n",
      "7 -0.703125\n",
      "8 -0.6640625\n",
      "9 -0.64453125\n",
      "10 -0.654296875\n",
      "11 -0.6591796875\n",
      "12 -0.66162109375\n",
      "13 -0.660400390625\n",
      "14 -0.6610107421875\n",
      "15 -0.66131591796875\n",
      "16 -0.661163330078125\n",
      "17 -0.6612396240234375\n",
      "18 -0.6612777709960938\n",
      "19 -0.6612968444824219\n",
      "20 -0.6613063812255859\n",
      "21 -0.6613016128540039\n",
      "22 -0.6612992286682129\n",
      "23 -0.6612980365753174\n",
      "24 -0.6612986326217651\n"
     ]
    },
    {
     "data": {
      "text/plain": [
       "-0.6612986326217651"
      ]
     },
     "execution_count": 49,
     "metadata": {},
     "output_type": "execute_result"
    }
   ],
   "source": [
    "# Bisection method\n",
    "\n",
    "bisection(f, -5, 5)"
   ]
  },
  {
   "cell_type": "code",
   "execution_count": 50,
   "id": "887c601a",
   "metadata": {},
   "outputs": [
    {
     "name": "stdout",
     "output_type": "stream",
     "text": [
      "iteration = 1 , x = -0.7937005259840997\n",
      "iteration = 2 , x = -0.5859822995151223\n",
      "iteration = 3 , x = -0.6932474925854273\n",
      "iteration = 4 , x = -0.6456712775708634\n",
      "iteration = 5 , x = -0.6684616192523987\n",
      "iteration = 6 , x = -0.6579120200986945\n",
      "iteration = 7 , x = -0.6628759440683422\n",
      "iteration = 8 , x = -0.6605578976691995\n",
      "iteration = 9 , x = -0.6616442414108434\n",
      "iteration = 10 , x = -0.6611359775050272\n",
      "iteration = 11 , x = -0.6613739628014131\n",
      "iteration = 12 , x = -0.6612625712034516\n",
      "iteration = 13 , x = -0.6613147181612993\n",
      "iteration = 14 , x = -0.661290307992975\n",
      "iteration = 15 , x = -0.6613017349037712\n",
      "iteration = 16 , x = -0.6612963858214007\n",
      "iteration = 17 , x = -0.6612988898154857\n",
      "iteration = 18 , x = -0.6612977176588699\n",
      "iteration = 19 , x = -0.6612982663636816\n"
     ]
    },
    {
     "data": {
      "text/plain": [
       "-0.6612982663636816"
      ]
     },
     "execution_count": 50,
     "metadata": {},
     "output_type": "execute_result"
    }
   ],
   "source": [
    "# Fixed point method\n",
    "\n",
    "def g(x):\n",
    "    return np.cbrt(0.5 - np.cos(x))\n",
    "\n",
    "\n",
    "fixedpoint(g, 0)"
   ]
  },
  {
   "cell_type": "code",
   "execution_count": 51,
   "id": "8a066e39",
   "metadata": {},
   "outputs": [
    {
     "name": "stdout",
     "output_type": "stream",
     "text": [
      "1 0.5180503488503926\n",
      "2 -1.1203848423910965\n",
      "3 -0.8051204839393744\n",
      "4 -0.6817435441898928\n",
      "5 -0.6617967775169805\n",
      "6 -0.6612983982445905\n",
      "7 -0.6612980914068\n"
     ]
    },
    {
     "data": {
      "text/plain": [
       "-0.6612980914068"
      ]
     },
     "execution_count": 51,
     "metadata": {},
     "output_type": "execute_result"
    }
   ],
   "source": [
    "# Newton raphson method\n",
    "\n",
    "newton(f, fPrime, 1)"
   ]
  },
  {
   "cell_type": "code",
   "execution_count": 12,
   "id": "fa738bb4",
   "metadata": {},
   "outputs": [
    {
     "name": "stdout",
     "output_type": "stream",
     "text": [
      "1 0.008653512581470402\n",
      "2 -0.01142546491590073\n",
      "3 -334.9735959470623\n",
      "4 -0.011429920206353472\n",
      "5 -0.011434375496378359\n",
      "6 -42.292721913255455\n",
      "7 -0.011713795049281828\n",
      "8 -0.0119932108853833\n",
      "9 -40.73998280271111\n",
      "10 -0.012294319839973866\n",
      "11 -0.012595424285866562\n",
      "12 -38.738369211871536\n",
      "13 -0.01292844541114846\n",
      "14 -0.013261460733219663\n",
      "15 -36.74691352744849\n",
      "16 -0.013631535457903965\n",
      "17 -0.014001602622030576\n",
      "18 -34.75611188662787\n",
      "19 -0.014415244615889833\n",
      "20 -0.014828876614783838\n",
      "21 -32.766379513129436\n",
      "22 -0.015294257469669503\n",
      "23 -0.015759624891791998\n",
      "24 -30.777809960830613\n",
      "25 -0.01628704652168267\n",
      "26 -0.016814449764034848\n",
      "27 -28.79061048058556\n",
      "28 -0.017417083710277836\n",
      "29 -0.018019691962197177\n",
      "30 -26.805186809100945\n",
      "31 -0.018714827227682918\n",
      "32 -0.019409925721059675\n",
      "33 -24.821791289234138\n",
      "34 -0.020220499726491425\n",
      "35 -0.021031019647549665\n",
      "36 -22.84080124532726\n",
      "37 -0.02198796373140155\n",
      "38 -0.022944825736386426\n",
      "39 -20.863086228100165\n",
      "40 -0.024091466886474677\n",
      "41 -0.02523797871718579\n",
      "42 -18.889369035023684\n",
      "43 -0.0266364828493586\n",
      "44 -0.02803477390372964\n",
      "45 -16.92050502023833\n",
      "46 -0.029776346472644377\n",
      "47 -0.03151754883971144\n",
      "48 -14.958682488161903\n",
      "49 -0.033743849794559466\n",
      "50 -0.0359694633582\n",
      "51 -13.00639143835808\n",
      "52 -0.03891274833253533\n",
      "53 -0.04185464328538025\n",
      "54 -11.066365081782878\n",
      "55 -0.04591151983049002\n",
      "56 -0.04996526728181554\n",
      "57 -9.145952197402469\n",
      "58 -0.05587853909252338\n",
      "59 -0.06178367299595152\n",
      "60 -7.257369700972175\n",
      "61 -0.07114499537280672\n",
      "62 -0.08048014805417947\n",
      "63 -5.416178721552744\n",
      "64 -0.09710862712417256\n",
      "65 -0.11362304436860757\n",
      "66 -3.665458495541876\n",
      "67 -0.14782293920165168\n",
      "68 -0.18126940206923922\n",
      "69 -2.1284912804890994\n",
      "70 -0.26468747076024335\n",
      "71 -0.33955356393205804\n",
      "72 -1.0445453089815389\n",
      "73 -0.5242506125634613\n",
      "74 -0.6090963347506719\n",
      "75 -0.6718145057774436\n",
      "76 -0.6605954380010465\n",
      "77 -0.661289042684334\n",
      "78 -0.6612980992630052\n",
      "79 -0.6612980914065959\n",
      "80 -0.6612980914066836\n"
     ]
    },
    {
     "data": {
      "text/plain": [
       "-0.6612980914066836"
      ]
     },
     "execution_count": 12,
     "metadata": {},
     "output_type": "execute_result"
    }
   ],
   "source": [
    "# Secant method\n",
    "\n",
    "secant(f, -5, 5)\n"
   ]
  },
  {
   "cell_type": "markdown",
   "id": "57278919",
   "metadata": {},
   "source": [
    "###  Apply all numerical methods above from scipy.optimize and find root for the mentioned function"
   ]
  },
  {
   "cell_type": "code",
   "execution_count": 52,
   "id": "e8e3fa70-fc99-473a-bfef-38c393f84f8a",
   "metadata": {},
   "outputs": [],
   "source": [
    "#importing scipy.optimize\n",
    "\n",
    "import scipy.optimize as spo"
   ]
  },
  {
   "cell_type": "code",
   "execution_count": 53,
   "id": "803b56e1",
   "metadata": {},
   "outputs": [
    {
     "name": "stdout",
     "output_type": "stream",
     "text": [
      "The approximate solution x is:  -0.6612986326217651\n",
      "And the value f(x) is:  -1.0424281993715034e-06\n"
     ]
    }
   ],
   "source": [
    "# Bisection method from scipy.optimize\n",
    "\n",
    "a = -5\n",
    "b = 5\n",
    "tol = 1.e-6\n",
    "x = spo.bisect(f, a, b, () , tol)\n",
    "print('The approximate solution x is: ', x)\n",
    "print('And the value f(x) is: ', f(x))"
   ]
  },
  {
   "cell_type": "code",
   "execution_count": 54,
   "id": "60f5501d",
   "metadata": {},
   "outputs": [
    {
     "name": "stdout",
     "output_type": "stream",
     "text": [
      "The approximate solution x is:  -0.6612980914066836\n",
      "And the value f(x) is:  0.0\n"
     ]
    }
   ],
   "source": [
    "# Fixed point method from scipy.optimize  (Reflect on this function and compare it to your manual calculations)\n",
    "\n",
    "x0 = 1.0\n",
    "tol = 1.e-4\n",
    "maxit = 50\n",
    "x = spo.fixed_point(g, x0, (), tol, maxit)\n",
    "print('The approximate solution x is: ', x)\n",
    "print('And the value f(x) is: ', f(x))\n"
   ]
  },
  {
   "cell_type": "code",
   "execution_count": 66,
   "id": "fb7e694d",
   "metadata": {},
   "outputs": [
    {
     "name": "stdout",
     "output_type": "stream",
     "text": [
      "The approximate solution x is:  0.5671432903993691\n",
      "And the value f(x) is:  -2.877842408821607e-11\n"
     ]
    }
   ],
   "source": [
    "# Newton raphson method from scipy.optimize\n",
    "\n",
    "def f(x):\n",
    "    y = np.log(x)+x\n",
    "    return y\n",
    "def df(x):\n",
    "    y = 1.0/x+1.0\n",
    "    return y\n",
    "x0 = 1.0\n",
    "x = spo.newton(f, x0, df, tol=1.e-4, maxiter=50)\n",
    "print('The approximate solution x is: ', x)\n",
    "print('And the value f(x) is: ', f(x))"
   ]
  },
  {
   "cell_type": "code",
   "execution_count": 65,
   "id": "dfe49046",
   "metadata": {},
   "outputs": [],
   "source": [
    "# Secant method  from scipy.optimize\n",
    "#same as Newton method\n"
   ]
  },
  {
   "cell_type": "code",
   "execution_count": null,
   "id": "e8ceda11-36b7-45bf-a628-ad581a0b3d8a",
   "metadata": {},
   "outputs": [],
   "source": []
  }
 ],
 "metadata": {
  "kernelspec": {
   "display_name": "Python 3 (ipykernel)",
   "language": "python",
   "name": "python3"
  },
  "language_info": {
   "codemirror_mode": {
    "name": "ipython",
    "version": 3
   },
   "file_extension": ".py",
   "mimetype": "text/x-python",
   "name": "python",
   "nbconvert_exporter": "python",
   "pygments_lexer": "ipython3",
   "version": "3.12.4"
  }
 },
 "nbformat": 4,
 "nbformat_minor": 5
}

{
 "cells": [
  {
   "cell_type": "code",
   "execution_count": 6,
   "id": "3aa2091a-3797-43ad-8b63-761c3131b41b",
   "metadata": {},
   "outputs": [],
   "source": [
    "#   22i-0792 Assignment 4"
   ]
  },
  {
   "cell_type": "code",
   "execution_count": 46,
   "id": "9068f0ab-7692-419c-afdc-e4e2a0c91969",
   "metadata": {},
   "outputs": [],
   "source": [
    "#   Solving Kirchoffs System, For Desnse I used Pivoted Gaussian Elimination and for sparce i used Scipy's Sparce"
   ]
  },
  {
   "cell_type": "code",
   "execution_count": 39,
   "id": "818e5f8e-cce6-4b65-8c00-a70075f924c7",
   "metadata": {},
   "outputs": [],
   "source": [
    "import numpy as np\n",
    "from scipy import sparse\n",
    "from scipy.sparse import linalg\n",
    "import time\n"
   ]
  },
  {
   "cell_type": "code",
   "execution_count": 40,
   "id": "560b231b-9cc4-4b3d-9e7c-4c51f9be7665",
   "metadata": {},
   "outputs": [],
   "source": [
    "\n",
    "# Helper function to swap rows\n",
    "def rowSwap(v,i,j):\n",
    "    if len(v.shape) == 1:\n",
    "        v[i],v[j] = v[j],v[i]\n",
    "    else:\n",
    "        v[[i,j],:] = v[[j,i],:]\n",
    "\n",
    "# Gaussian Elimination with Pivoting\n",
    "def pGauss_elimination(A, b, tol=1.0e-15):\n",
    "    n = len(b)\n",
    "    for k in range(n-1):\n",
    "        # Swap rows if necessary (partial pivoting)\n",
    "        p = np.argmax(np.abs(A[k:n,k])) + k\n",
    "        if np.abs(A[p,k]) < tol: \n",
    "            raise ValueError(\"Singular matrix has been detected\")\n",
    "        if p != k:\n",
    "            rowSwap(b,k,p)\n",
    "            rowSwap(A,k,p)\n",
    "        # Perform Gauss elimination\n",
    "        for i in range(k+1,n):\n",
    "            if A[k,k] != 0.0:\n",
    "                mik = A[i,k]/A[k,k]\n",
    "                A[i,k+1:n] = A[i,k+1:n] - mik*A[k,k+1:n]\n",
    "                b[i] = b[i] - mik*b[k]\n",
    "    # Backward substitution\n",
    "    if np.abs(A[n-1,n-1]) < tol:\n",
    "        raise ValueError(\"Singular matrix has been detected\")        \n",
    "    b[n-1] = b[n-1]/A[n-1,n-1]\n",
    "    for k in range(n-2,-1,-1):\n",
    "        b[k] = (b[k] - np.dot(A[k,k+1:n], b[k+1:n])) / A[k,k]\n",
    "    return b\n"
   ]
  },
  {
   "cell_type": "code",
   "execution_count": 41,
   "id": "41fb7a61-2518-4875-b83e-46ce5ab5a2fc",
   "metadata": {},
   "outputs": [],
   "source": [
    "\n",
    "# Coefficient matrix A\n",
    "A = np.array([\n",
    "    [1, -1, -1,  0,  0,  0,  0,  0],  # I0 = I1 + I2\n",
    "    [0,  1,  0, -1,  0, -1,  0,  0],  # I1 = I3 + I5\n",
    "    [0,  0,  1,  0, -1,  0, -1,  0],  # I2 = I4 + I6\n",
    "    [0,  0,  0,  0,  0,  1,  1, -1],  # I7 = I5 + I6\n",
    "    [2,  1,  0,  0,  0,  0,  0,  0],  # 20 = 2I0 + I1\n",
    "    [0, -1,  0,  1,  2,  0,  0,  0],  # 0 = I3 + 2I4 - I1\n",
    "    [0,  0,  0, -2,  0,  1,  0, -1],  # 0 = I5 - 2I3 - I7\n",
    "    [0,  0,  0,  0,  1,  0,  2, -1],  # 0 = I4 + 2I6 - I7\n",
    "])\n",
    "\n",
    "# Right-hand side vector B\n",
    "B = np.array([0, 0, 0, 0, 20, 0, 0, 0])\n"
   ]
  },
  {
   "cell_type": "code",
   "execution_count": 42,
   "id": "f9a306f5-1cab-4d33-aaac-2d71a5e58297",
   "metadata": {},
   "outputs": [
    {
     "name": "stdout",
     "output_type": "stream",
     "text": [
      "Dense Matrix Solution using Gaussian Elimination with Pivoting:\n",
      "[ 8  3  7 -2  2  5  5 10]\n",
      "Dense Matrix Computation Time: 0.003726 seconds\n"
     ]
    }
   ],
   "source": [
    "\n",
    "# Part (b) Dense Matrix Solution with Gaussian Elimination\n",
    "start_dense = time.time()\n",
    "dense_solution = pGauss_elimination(A.copy(), B.copy())  # Use copy to avoid modifying original A and B\n",
    "end_dense = time.time()\n",
    "\n",
    "print(\"Dense Matrix Solution using Gaussian Elimination with Pivoting:\")\n",
    "print(dense_solution)\n",
    "print(f\"Dense Matrix Computation Time: {end_dense - start_dense:.6f} seconds\")\n"
   ]
  },
  {
   "cell_type": "code",
   "execution_count": 43,
   "id": "b1947305-782b-4a11-8cf5-6b0a58082d99",
   "metadata": {},
   "outputs": [
    {
     "name": "stdout",
     "output_type": "stream",
     "text": [
      "\n",
      "Sparse Matrix Solution using SciPy:\n",
      "[ 8.23529412  3.52941176  4.70588235 -1.17647059  2.35294118  4.70588235\n",
      "  2.35294118  7.05882353]\n",
      "Sparse Matrix Computation Time: 0.001998 seconds\n"
     ]
    }
   ],
   "source": [
    "\n",
    "# Part (c) Sparse Matrix Solution using SciPy\n",
    "A_sparse = sparse.csc_matrix(A)  # Convert to sparse matrix (Compressed Sparse Column format)\n",
    "\n",
    "start_sparse = time.time()\n",
    "sparse_solution = linalg.spsolve(A_sparse, B)\n",
    "end_sparse = time.time()\n",
    "\n",
    "print(\"\\nSparse Matrix Solution using SciPy:\")\n",
    "print(sparse_solution)\n",
    "print(f\"Sparse Matrix Computation Time: {end_sparse - start_sparse:.6f} seconds\")\n"
   ]
  },
  {
   "cell_type": "code",
   "execution_count": 44,
   "id": "27ab34c2-e818-4593-a2ea-88c2c049936b",
   "metadata": {},
   "outputs": [
    {
     "name": "stdout",
     "output_type": "stream",
     "text": [
      "\n",
      "Comparison of Speed:\n",
      "Dense Method Time: 0.003726 seconds\n",
      "Sparse Method Time: 0.001998 seconds\n",
      "Faster Method: Sparse\n"
     ]
    }
   ],
   "source": [
    "\n",
    "# Part (d) Compare Speeds\n",
    "dense_time = end_dense - start_dense\n",
    "sparse_time = end_sparse - start_sparse\n",
    "\n",
    "print(\"\\nComparison of Speed:\")\n",
    "print(f\"Dense Method Time: {dense_time:.6f} seconds\")\n",
    "print(f\"Sparse Method Time: {sparse_time:.6f} seconds\")\n",
    "print(f\"Faster Method: {'Dense' if dense_time < sparse_time else 'Sparse'}\")\n"
   ]
  },
  {
   "cell_type": "code",
   "execution_count": 45,
   "id": "f4a34fe5-2f1a-46c2-ade7-e4e7670065f3",
   "metadata": {},
   "outputs": [
    {
     "name": "stdout",
     "output_type": "stream",
     "text": [
      "\n",
      "Difference Between Solutions:\n",
      "[0.23529412 0.52941176 2.29411765 0.82352941 0.35294118 0.29411765\n",
      " 2.64705882 2.94117647]\n",
      "Solutions differ beyond the acceptable tolerance.\n"
     ]
    }
   ],
   "source": [
    "\n",
    "# Part (e) Compute Difference Between Solutions\n",
    "difference = np.abs(np.array(dense_solution) - sparse_solution)\n",
    "\n",
    "print(\"\\nDifference Between Solutions:\")\n",
    "print(difference)\n",
    "\n",
    "# Check Accuracy\n",
    "tolerance = 1e-6\n",
    "if np.all(difference < tolerance):\n",
    "    print(f\"Both solutions are accurate within the tolerance of {tolerance}.\")\n",
    "else:\n",
    "    print(\"Solutions differ beyond the acceptable tolerance.\")\n"
   ]
  }
 ],
 "metadata": {
  "kernelspec": {
   "display_name": "Python 3 (ipykernel)",
   "language": "python",
   "name": "python3"
  },
  "language_info": {
   "codemirror_mode": {
    "name": "ipython",
    "version": 3
   },
   "file_extension": ".py",
   "mimetype": "text/x-python",
   "name": "python",
   "nbconvert_exporter": "python",
   "pygments_lexer": "ipython3",
   "version": "3.12.4"
  }
 },
 "nbformat": 4,
 "nbformat_minor": 5
}
